{
 "cells": [
  {
   "cell_type": "code",
   "execution_count": 1,
   "metadata": {},
   "outputs": [],
   "source": [
    "import tensorflow as tf\n",
    "import numpy as np\n"
   ]
  },
  {
   "cell_type": "code",
   "execution_count": 4,
   "metadata": {},
   "outputs": [
    {
     "name": "stdout",
     "output_type": "stream",
     "text": [
      "0 [0.05674956, 0.10117852]\n",
      "20 [0.105768755, 0.19674648]\n",
      "40 [0.10351388, 0.19801824]\n",
      "60 [0.10214038, 0.19879286]\n",
      "80 [0.10130374, 0.1992647]\n",
      "100 [0.100794144, 0.19955212]\n",
      "120 [0.10048374, 0.19972718]\n",
      "140 [0.10029465, 0.19983383]\n",
      "160 [0.10017947, 0.19989878]\n",
      "180 [0.100109324, 0.19993834]\n",
      "200 [0.100066595, 0.19996244]\n"
     ]
    }
   ],
   "source": [
    "x_data = np.random.rand(100)\n",
    "y_data = x_data*0.1 + 0.2\n",
    "\n",
    "#构建一个线性模型\n",
    "b = tf.Variable(0.)\n",
    "k = tf.Variable(0.)\n",
    "y = k*x_data + b\n",
    "\n",
    "#二次代价函数 差值平方的平均值\n",
    "loss = tf.reduce_mean(tf.square(y_data - y))\n",
    "#定义梯度下降法训练的优化器 0.2学习率\n",
    "optmizer = tf.train.GradientDescentOptimizer(0.2)\n",
    "#最小化代价函数\n",
    "train = optmizer.minimize(loss)\n",
    "\n",
    "#初始化变量\n",
    "init = tf.global_variables_initializer()\n",
    "\n",
    "with tf.Session() as sess:\n",
    "    sess.run(init)#变量初始化\n",
    "    for step in range(201):\n",
    "        sess.run(train)#loss 最小值\n",
    "        if step % 20 == 0:\n",
    "            print(step,sess.run([k,b]))#Fetch \n",
    "\n"
   ]
  },
  {
   "cell_type": "code",
   "execution_count": null,
   "metadata": {},
   "outputs": [],
   "source": []
  },
  {
   "cell_type": "code",
   "execution_count": null,
   "metadata": {},
   "outputs": [],
   "source": [
    " "
   ]
  },
  {
   "cell_type": "code",
   "execution_count": null,
   "metadata": {},
   "outputs": [],
   "source": []
  }
 ],
 "metadata": {
  "kernelspec": {
   "display_name": "Python 3",
   "language": "python",
   "name": "python3"
  },
  "language_info": {
   "codemirror_mode": {
    "name": "ipython",
    "version": 3
   },
   "file_extension": ".py",
   "mimetype": "text/x-python",
   "name": "python",
   "nbconvert_exporter": "python",
   "pygments_lexer": "ipython3",
   "version": "3.5.6"
  }
 },
 "nbformat": 4,
 "nbformat_minor": 2
}
