{
 "cells": [
  {
   "cell_type": "code",
   "execution_count": 2,
   "metadata": {},
   "outputs": [
    {
     "name": "stdout",
     "output_type": "stream",
     "text": [
      "Collecting msgpack\n",
      "\u001b[?25l  Downloading https://files.pythonhosted.org/packages/f3/b6/9affbea179c3c03a0eb53515d9ce404809a122f76bee8fc8c6ec9497f51f/msgpack-0.5.6.tar.gz (138kB)\n",
      "\u001b[K    100% |████████████████████████████████| 143kB 271kB/s ta 0:00:01\n",
      "\u001b[?25hBuilding wheels for collected packages: msgpack\n",
      "  Running setup.py bdist_wheel for msgpack ... \u001b[?25ldone\n",
      "\u001b[?25h  Stored in directory: /Users/ianwong/Library/Caches/pip/wheels/f0/02/4c/525b56fce78c415eb8066f6554f9de02792df26b8f882f6d65\n",
      "Successfully built msgpack\n",
      "Installing collected packages: msgpack\n",
      "Successfully installed msgpack-0.5.6\n",
      "\u001b[33mYou are using pip version 10.0.1, however version 18.1 is available.\n",
      "You should consider upgrading via the 'pip install --upgrade pip' command.\u001b[0m\n",
      "\u001b[33mYou are using pip version 10.0.1, however version 18.1 is available.\n",
      "You should consider upgrading via the 'pip install --upgrade pip' command.\u001b[0m\n"
     ]
    }
   ],
   "source": [
    "!pip install msgpack\n",
    "!pip install -q h5py pyyaml \n"
   ]
  },
  {
   "cell_type": "code",
   "execution_count": 3,
   "metadata": {},
   "outputs": [],
   "source": [
    "from __future__ import absolute_import, division,print_function\n",
    "import os\n",
    "\n",
    "import tensorflow as tf\n",
    "from tensorflow import keras\n"
   ]
  },
  {
   "cell_type": "code",
   "execution_count": 8,
   "metadata": {},
   "outputs": [
    {
     "name": "stdout",
     "output_type": "stream",
     "text": [
      "Downloading data from https://storage.googleapis.com/tensorflow/tf-keras-datasets/mnist.npz\n",
      "11493376/11490434 [==============================] - 5s 0us/step\n"
     ]
    }
   ],
   "source": [
    "(train_images, train_lables),(test_images,test_labels) = keras.datasets.mnist.load_data()"
   ]
  },
  {
   "cell_type": "code",
   "execution_count": 9,
   "metadata": {},
   "outputs": [],
   "source": [
    "train_labels = train_lables[:1000]\n",
    "test_labels = test_labels[:1000]\n",
    "\n",
    "\n",
    "test_images = test_images[:1000].reshape(-1,28*28)/255.0\n",
    "train_images = train_images[:1000].reshape(-1, 28*28)/255.0"
   ]
  },
  {
   "cell_type": "markdown",
   "metadata": {},
   "source": [
    "# define a model"
   ]
  },
  {
   "cell_type": "code",
   "execution_count": 11,
   "metadata": {},
   "outputs": [
    {
     "name": "stdout",
     "output_type": "stream",
     "text": [
      "_________________________________________________________________\n",
      "Layer (type)                 Output Shape              Param #   \n",
      "=================================================================\n",
      "dense (Dense)                (None, 512)               401920    \n",
      "_________________________________________________________________\n",
      "dropout (Dropout)            (None, 512)               0         \n",
      "_________________________________________________________________\n",
      "dense_1 (Dense)              (None, 10)                5130      \n",
      "=================================================================\n",
      "Total params: 407,050\n",
      "Trainable params: 407,050\n",
      "Non-trainable params: 0\n",
      "_________________________________________________________________\n"
     ]
    }
   ],
   "source": [
    "def create_model():\n",
    "    model = tf.keras.models.Sequential([\n",
    "        keras.layers.Dense(512, activation=tf.nn.relu, input_shape=(784,)),\n",
    "        keras.layers.Dropout(0.2),\n",
    "        keras.layers.Dense(10,activation=tf.nn.softmax)\n",
    "    ])\n",
    "    model.compile(optimizer=tf.keras.optimizers.Adam(),\n",
    "                 loss=keras.losses.sparse_categorical_crossentropy,\n",
    "                 metrics=['accuracy'])\n",
    "    return model\n",
    "\n",
    "model = create_model()\n",
    "model.summary()"
   ]
  },
  {
   "cell_type": "markdown",
   "metadata": {},
   "source": [
    "# save checkpoits during training"
   ]
  },
  {
   "cell_type": "code",
   "execution_count": 12,
   "metadata": {},
   "outputs": [
    {
     "name": "stdout",
     "output_type": "stream",
     "text": [
      "Train on 1000 samples, validate on 1000 samples\n",
      "Epoch 1/10\n",
      "1000/1000 [==============================] - 1s 1ms/step - loss: 1.1585 - acc: 0.6490 - val_loss: 0.7008 - val_acc: 0.7890\n",
      "\n",
      "Epoch 00001: saving model to ./training_1/cp.ckpt\n",
      "Epoch 2/10\n",
      "1000/1000 [==============================] - 0s 358us/step - loss: 0.4150 - acc: 0.8840 - val_loss: 0.5195 - val_acc: 0.8370\n",
      "\n",
      "Epoch 00002: saving model to ./training_1/cp.ckpt\n",
      "Epoch 3/10\n",
      "1000/1000 [==============================] - 0s 389us/step - loss: 0.2836 - acc: 0.9270 - val_loss: 0.4310 - val_acc: 0.8700\n",
      "\n",
      "Epoch 00003: saving model to ./training_1/cp.ckpt\n",
      "Epoch 4/10\n",
      "1000/1000 [==============================] - 0s 397us/step - loss: 0.1968 - acc: 0.9490 - val_loss: 0.4377 - val_acc: 0.8600\n",
      "\n",
      "Epoch 00004: saving model to ./training_1/cp.ckpt\n",
      "Epoch 5/10\n",
      "1000/1000 [==============================] - 0s 403us/step - loss: 0.1485 - acc: 0.9710 - val_loss: 0.4121 - val_acc: 0.8650\n",
      "\n",
      "Epoch 00005: saving model to ./training_1/cp.ckpt\n",
      "Epoch 6/10\n",
      "1000/1000 [==============================] - 0s 476us/step - loss: 0.1196 - acc: 0.9750 - val_loss: 0.4150 - val_acc: 0.8690\n",
      "\n",
      "Epoch 00006: saving model to ./training_1/cp.ckpt\n",
      "Epoch 7/10\n",
      "1000/1000 [==============================] - 0s 424us/step - loss: 0.0790 - acc: 0.9900 - val_loss: 0.3929 - val_acc: 0.8740\n",
      "\n",
      "Epoch 00007: saving model to ./training_1/cp.ckpt\n",
      "Epoch 8/10\n",
      "1000/1000 [==============================] - 0s 406us/step - loss: 0.0618 - acc: 0.9940 - val_loss: 0.3906 - val_acc: 0.8740\n",
      "\n",
      "Epoch 00008: saving model to ./training_1/cp.ckpt\n",
      "Epoch 9/10\n",
      "1000/1000 [==============================] - 0s 383us/step - loss: 0.0460 - acc: 0.9990 - val_loss: 0.4067 - val_acc: 0.8750\n",
      "\n",
      "Epoch 00009: saving model to ./training_1/cp.ckpt\n",
      "Epoch 10/10\n",
      "1000/1000 [==============================] - 0s 382us/step - loss: 0.0388 - acc: 0.9980 - val_loss: 0.3987 - val_acc: 0.8780\n",
      "\n",
      "Epoch 00010: saving model to ./training_1/cp.ckpt\n"
     ]
    },
    {
     "data": {
      "text/plain": [
       "<tensorflow.python.keras.callbacks.History at 0x108be8198>"
      ]
     },
     "execution_count": 12,
     "metadata": {},
     "output_type": "execute_result"
    }
   ],
   "source": [
    "checkpoint_path = './training_1/cp.ckpt'\n",
    "checkpoint_dir = os.path.dirname(checkpoint_path)\n",
    "# create checkpoints callback\n",
    "cp_callback = tf.keras.callbacks.ModelCheckpoint(checkpoint_path,\n",
    "                                                save_weights_only=True,\n",
    "                                                verbose=1)\n",
    "model = create_model()\n",
    "model.fit(train_images,train_labels,\n",
    "         epochs=10,\n",
    "         validation_data=(test_images,test_labels),\n",
    "         callbacks=[cp_callback])"
   ]
  },
  {
   "cell_type": "code",
   "execution_count": 13,
   "metadata": {},
   "outputs": [
    {
     "name": "stdout",
     "output_type": "stream",
     "text": [
      "checkpoint                  cp.ckpt.index\r\n",
      "cp.ckpt.data-00000-of-00001\r\n"
     ]
    }
   ],
   "source": [
    "!ls {checkpoint_dir}"
   ]
  },
  {
   "cell_type": "code",
   "execution_count": 14,
   "metadata": {},
   "outputs": [
    {
     "name": "stdout",
     "output_type": "stream",
     "text": [
      "1000/1000 [==============================] - 0s 194us/step\n",
      "untrained model, accuracy:11.70%\n"
     ]
    }
   ],
   "source": [
    "model = create_model()\n",
    "loss, acc = model.evaluate(test_images,test_labels)\n",
    "print('untrained model, accuracy:{:5.2f}%'.format(100*acc))"
   ]
  },
  {
   "cell_type": "code",
   "execution_count": 15,
   "metadata": {},
   "outputs": [
    {
     "name": "stdout",
     "output_type": "stream",
     "text": [
      "1000/1000 [==============================] - 0s 71us/step\n",
      "restored model, accuracy:87.80%\n"
     ]
    }
   ],
   "source": [
    "#load the weights from checkpoints\n",
    "model.load_weights(checkpoint_path)\n",
    "loss, acc = model.evaluate(test_images,test_labels)\n",
    "print('restored model, accuracy:{:5.2f}%'.format(100*acc))"
   ]
  },
  {
   "cell_type": "code",
   "execution_count": 16,
   "metadata": {},
   "outputs": [
    {
     "name": "stdout",
     "output_type": "stream",
     "text": [
      "\n",
      "Epoch 00005: saving model to ./training_2/cp-0005.ckpt\n",
      "\n",
      "Epoch 00010: saving model to ./training_2/cp-0010.ckpt\n",
      "\n",
      "Epoch 00015: saving model to ./training_2/cp-0015.ckpt\n",
      "\n",
      "Epoch 00020: saving model to ./training_2/cp-0020.ckpt\n",
      "\n",
      "Epoch 00025: saving model to ./training_2/cp-0025.ckpt\n",
      "\n",
      "Epoch 00030: saving model to ./training_2/cp-0030.ckpt\n",
      "\n",
      "Epoch 00035: saving model to ./training_2/cp-0035.ckpt\n",
      "\n",
      "Epoch 00040: saving model to ./training_2/cp-0040.ckpt\n",
      "\n",
      "Epoch 00045: saving model to ./training_2/cp-0045.ckpt\n",
      "\n",
      "Epoch 00050: saving model to ./training_2/cp-0050.ckpt\n"
     ]
    },
    {
     "data": {
      "text/plain": [
       "<tensorflow.python.keras.callbacks.History at 0x11c2049e8>"
      ]
     },
     "execution_count": 16,
     "metadata": {},
     "output_type": "execute_result"
    }
   ],
   "source": [
    "# include the epoch in the file name. (uses `str.format`)\n",
    "checkpoint_path = \"./training_2/cp-{epoch:04d}.ckpt\"\n",
    "checkpoint_dir = os.path.dirname(checkpoint_path)\n",
    "\n",
    "cp_callback = tf.keras.callbacks.ModelCheckpoint(\n",
    "    checkpoint_path, verbose=1, save_weights_only=True,\n",
    "    # Save weights, every 5-epochs.\n",
    "    period=5)\n",
    "\n",
    "model = create_model()\n",
    "model.fit(train_images, train_labels,\n",
    "          epochs = 50, callbacks = [cp_callback],\n",
    "          validation_data = (test_images,test_labels),\n",
    "          verbose=0)\n"
   ]
  },
  {
   "cell_type": "code",
   "execution_count": 17,
   "metadata": {},
   "outputs": [
    {
     "name": "stdout",
     "output_type": "stream",
     "text": [
      "checkpoint                       cp-0040.ckpt.index\r\n",
      "cp-0030.ckpt.data-00000-of-00001 cp-0045.ckpt.data-00000-of-00001\r\n",
      "cp-0030.ckpt.index               cp-0045.ckpt.index\r\n",
      "cp-0035.ckpt.data-00000-of-00001 cp-0050.ckpt.data-00000-of-00001\r\n",
      "cp-0035.ckpt.index               cp-0050.ckpt.index\r\n",
      "cp-0040.ckpt.data-00000-of-00001\r\n"
     ]
    }
   ],
   "source": [
    "! ls {checkpoint_dir}"
   ]
  },
  {
   "cell_type": "code",
   "execution_count": 18,
   "metadata": {},
   "outputs": [
    {
     "data": {
      "text/plain": [
       "'./training_2/cp-0050.ckpt'"
      ]
     },
     "execution_count": 18,
     "metadata": {},
     "output_type": "execute_result"
    }
   ],
   "source": [
    "latest = tf.train.latest_checkpoint(checkpoint_dir)\n",
    "latest"
   ]
  },
  {
   "cell_type": "code",
   "execution_count": 19,
   "metadata": {},
   "outputs": [
    {
     "name": "stdout",
     "output_type": "stream",
     "text": [
      "1000/1000 [==============================] - 0s 161us/step\n",
      "restored model, accuracy:87.60%\n"
     ]
    }
   ],
   "source": [
    "model = create_model()\n",
    "model.load_weights(latest)\n",
    "loss,acc = model.evaluate(test_images,test_labels)\n",
    "\n",
    "print('restored model, accuracy:{:5.2f}%'.format(100*acc))"
   ]
  },
  {
   "cell_type": "code",
   "execution_count": 20,
   "metadata": {},
   "outputs": [
    {
     "name": "stdout",
     "output_type": "stream",
     "text": [
      "1000/1000 [==============================] - 0s 181us/step\n",
      "Restored model, accuracy: 87.60%\n"
     ]
    }
   ],
   "source": [
    "# Save the weights\n",
    "model.save_weights('./checkpoints/my_checkpoint')\n",
    "\n",
    "# Restore the weights\n",
    "model = create_model()\n",
    "model.load_weights('./checkpoints/my_checkpoint')\n",
    "\n",
    "loss,acc = model.evaluate(test_images, test_labels)\n",
    "print(\"Restored model, accuracy: {:5.2f}%\".format(100*acc))\n"
   ]
  },
  {
   "cell_type": "code",
   "execution_count": null,
   "metadata": {},
   "outputs": [],
   "source": []
  }
 ],
 "metadata": {
  "kernelspec": {
   "display_name": "Python 3",
   "language": "python",
   "name": "python3"
  },
  "language_info": {
   "codemirror_mode": {
    "name": "ipython",
    "version": 3
   },
   "file_extension": ".py",
   "mimetype": "text/x-python",
   "name": "python",
   "nbconvert_exporter": "python",
   "pygments_lexer": "ipython3",
   "version": "3.5.6"
  }
 },
 "nbformat": 4,
 "nbformat_minor": 2
}
