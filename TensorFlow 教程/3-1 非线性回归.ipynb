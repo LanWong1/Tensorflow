{
 "cells": [
  {
   "cell_type": "code",
   "execution_count": 2,
   "metadata": {},
   "outputs": [],
   "source": [
    "import tensorflow as tf\n",
    "import numpy as np\n",
    "import matplotlib.pyplot as plt\n"
   ]
  },
  {
   "cell_type": "code",
   "execution_count": 20,
   "metadata": {},
   "outputs": [
    {
     "name": "stdout",
     "output_type": "stream",
     "text": [
      "[[0. 0. 0. 0. 0. 0. 0. 0. 0. 0.]]\n"
     ]
    },
    {
     "data": {
      "image/png": "[encoded data removed]",
      "text/plain": [
       "<Figure size 432x288 with 1 Axes>"
      ]
     },
     "metadata": {
      "needs_background": "light"
     },
     "output_type": "display_data"
    }
   ],
   "source": [
    "#生成200个随机点 样本\n",
    "x_data = np.linspace(-0.5,0.5,200)[:,np.newaxis]#（-0.5，0.5）均匀分布生成200个点\n",
    "\n",
    "noise = np.random.normal(0,0.02,x_data.shape)\n",
    "\n",
    "y_data = np.square(x_data) + noise\n",
    "#定义两个 placeholder\n",
    "\n",
    "x = tf.placeholder(tf.float32,[None,1])\n",
    "y = tf.placeholder(tf.float32,[None,1])\n",
    "\n",
    "#定义神经网络中间层 10个神经元\n",
    "\n",
    "wights_L1 = tf.Variable(tf.random_normal([1,10]))\n",
    "biases_L1 = tf.Variable(tf.zeros([1,10]))\n",
    "\n",
    "wx_plus_b_L1 = tf.matmul(x,wights_L1) + biases_L1\n",
    "L1 = tf.nn.tanh(wx_plus_b_L1)#输出值为 L1*激活函数\n",
    "\n",
    "#定义输出层\n",
    "\n",
    "wights_L2 = tf.Variable(tf.random_normal([10,1]))\n",
    "biases_L2 = tf.Variable(tf.zeros([1,1]))\n",
    "wx_plus_b_L2 = tf.matmul(L1,wights_L2) + biases_L2\n",
    "prediction = tf.nn.tanh(wx_plus_b_L2)\n",
    "\n",
    "#代价函数\n",
    "loss = tf.reduce_mean(tf.square(y-prediction))\n",
    "#使用梯度下降法\n",
    "train_step = tf.train.GradientDescentOptimizer(0.2).minimize(loss)\n",
    "\n",
    "#定义会话\n",
    "with tf.Session() as sess:\n",
    "    \n",
    "    #变量初始化 \n",
    "    sess.run(tf.global_variables_initializer())\n",
    "    print(sess.run(biases_L1))\n",
    "    #训练2000次\n",
    "    for _ in range(2000):\n",
    "        sess.run(train_step,feed_dict = {x:x_data,y:y_data})\n",
    "    #获取预测值\n",
    "    prediction_value = sess.run(prediction,feed_dict={x:x_data})\n",
    "    plt.figure()\n",
    "    #样本散点图\n",
    "    plt.scatter(x_data,y_data)\n",
    "    #\n",
    "    plt.plot(x_data,prediction_value,'r-',lw=5)\n",
    "    plt.show()\n",
    "        \n"
   ]
  },
  {
   "cell_type": "code",
   "execution_count": null,
   "metadata": {},
   "outputs": [],
   "source": []
  },
  {
   "cell_type": "code",
   "execution_count": null,
   "metadata": {},
   "outputs": [],
   "source": []
  },
  {
   "cell_type": "code",
   "execution_count": null,
   "metadata": {},
   "outputs": [],
   "source": []
  },
  {
   "cell_type": "code",
   "execution_count": null,
   "metadata": {},
   "outputs": [],
   "source": []
  },
  {
   "cell_type": "code",
   "execution_count": null,
   "metadata": {},
   "outputs": [],
   "source": []
  },
  {
   "cell_type": "code",
   "execution_count": null,
   "metadata": {},
   "outputs": [],
   "source": []
  },
  {
   "cell_type": "code",
   "execution_count": null,
   "metadata": {},
   "outputs": [],
   "source": []
  },
  {
   "cell_type": "code",
   "execution_count": null,
   "metadata": {},
   "outputs": [],
   "source": []
  },
  {
   "cell_type": "code",
   "execution_count": null,
   "metadata": {},
   "outputs": [],
   "source": []
  },
  {
   "cell_type": "code",
   "execution_count": null,
   "metadata": {},
   "outputs": [],
   "source": []
  },
  {
   "cell_type": "code",
   "execution_count": null,
   "metadata": {},
   "outputs": [],
   "source": []
  },
  {
   "cell_type": "code",
   "execution_count": null,
   "metadata": {},
   "outputs": [],
   "source": []
  }
 ],
 "metadata": {
  "kernelspec": {
   "display_name": "Python 3",
   "language": "python",
   "name": "python3"
  },
  "language_info": {
   "codemirror_mode": {
    "name": "ipython",
    "version": 3
   },
   "file_extension": ".py",
   "mimetype": "text/x-python",
   "name": "python",
   "nbconvert_exporter": "python",
   "pygments_lexer": "ipython3",
   "version": "3.5.6"
  }
 },
 "nbformat": 4,
 "nbformat_minor": 2
}
