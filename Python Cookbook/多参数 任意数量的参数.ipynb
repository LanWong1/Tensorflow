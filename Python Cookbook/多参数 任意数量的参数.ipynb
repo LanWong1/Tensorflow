{
 "cells": [
  {
   "cell_type": "code",
   "execution_count": 1,
   "metadata": {},
   "outputs": [],
   "source": [
    "import html"
   ]
  },
  {
   "cell_type": "code",
   "execution_count": 8,
   "metadata": {},
   "outputs": [
    {
     "name": "stdout",
     "output_type": "stream",
     "text": [
      "('size', 'large')\n",
      "('quantity', 9)\n",
      "['size = \"large\" ', 'quantity = \"9\" ']\n",
      "size = \"large\" quantity = \"9\" \n"
     ]
    },
    {
     "data": {
      "text/plain": [
       "'<itemsize = \"large\" quantity = \"9\" >alibb</item>'"
      ]
     },
     "execution_count": 8,
     "metadata": {},
     "output_type": "execute_result"
    }
   ],
   "source": [
    "def make_element (name,value,**attrs):\n",
    "    for item in attrs.items():\n",
    "        print(item)\n",
    "    \n",
    "    keyValue = ['%s = \"%s\" ' % item for item in attrs.items()]\n",
    "    print(keyValue)\n",
    "    attr_str = ''.join(keyValue)\n",
    "    print(attr_str)\n",
    "    element ='<{name}{attrs}>{value}</{name}>'.format(name=name,attrs=attr_str,value=html.escape(value))\n",
    "    return element\n",
    "\n",
    "make_element('item','alibb',size='large',quantity=9)\n"
   ]
  },
  {
   "cell_type": "code",
   "execution_count": null,
   "metadata": {},
   "outputs": [],
   "source": []
  }
 ],
 "metadata": {
  "kernelspec": {
   "display_name": "Python 3",
   "language": "python",
   "name": "python3"
  },
  "language_info": {
   "codemirror_mode": {
    "name": "ipython",
    "version": 3
   },
   "file_extension": ".py",
   "mimetype": "text/x-python",
   "name": "python",
   "nbconvert_exporter": "python",
   "pygments_lexer": "ipython3",
   "version": "3.6.5"
  }
 },
 "nbformat": 4,
 "nbformat_minor": 2
}
