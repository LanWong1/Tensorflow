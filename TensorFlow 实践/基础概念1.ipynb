{
 "cells": [
  {
   "cell_type": "code",
   "execution_count": 2,
   "metadata": {},
   "outputs": [
    {
     "name": "stdout",
     "output_type": "stream",
     "text": [
      "Tensor(\"Const_2:0\", shape=(), dtype=float32) Tensor(\"Const_3:0\", shape=(), dtype=float32) Tensor(\"Add_1:0\", shape=(), dtype=float32)\n"
     ]
    }
   ],
   "source": [
    "import tensorflow as tf\n",
    "a = tf.constant(1.0)\n",
    "b = tf.constant(2.0)\n",
    "c = tf.add(a,b)\n",
    "print(a,b,c)\n"
   ]
  },
  {
   "cell_type": "code",
   "execution_count": 3,
   "metadata": {},
   "outputs": [
    {
     "name": "stdout",
     "output_type": "stream",
     "text": [
      "3.0\n",
      "[1.0, 2.0, 3.0]\n"
     ]
    }
   ],
   "source": [
    "d = tf.constant(1.0,name='d')\n",
    "e = tf.constant(2.0,name='e')\n",
    "f = tf.add(d,e)\n",
    "with tf.Session() as sess:\n",
    "    print(f.eval())\n",
    "    print(sess.run([d,e,f]))"
   ]
  },
  {
   "cell_type": "code",
   "execution_count": 8,
   "metadata": {},
   "outputs": [
    {
     "name": "stdout",
     "output_type": "stream",
     "text": [
      "(2, 3)\n",
      "[None]\n",
      "[[1 2 3]\n",
      " [4 5 6]]\n"
     ]
    }
   ],
   "source": [
    "a =tf.constant([[1,2,3],[4,5,6]],name='a')\n",
    "b = tf.constant([[7,8,9],[10,11,12]],name='b')\n",
    "c = tf.add(a,b)\n",
    "f = a.consumers()\n",
    "with tf.Session() as sess:\n",
    "    print(a.get_shape())\n",
    "    print(sess.run(f))\n",
    "    print(a.eval())\n",
    "   "
   ]
  },
  {
   "cell_type": "code",
   "execution_count": 9,
   "metadata": {},
   "outputs": [
    {
     "name": "stdout",
     "output_type": "stream",
     "text": [
      "[[ 6  6  6]\n",
      " [14 16 18]]\n",
      "[[ -7 -16 -27]\n",
      " [ 40  55  72]]\n",
      "[[ -8 -10 -12]\n",
      " [ -6  -6  -6]]\n",
      "[[220 244]\n",
      " [301 334]]\n",
      "[[1 2 3]\n",
      " [4 5 6]]\n",
      "[[ 1  2  3]\n",
      " [-4 -5 -6]]\n",
      "[[-1 -2 -3]\n",
      " [ 4  5  6]]\n"
     ]
    }
   ],
   "source": [
    "a = tf.constant([[-1, -2, -3], [4, 5, 6]], name = 'a')\n",
    "b = tf.constant([[7, 8, 9], [10, 11, 12]], name = 'b')\n",
    "c = tf.constant([[7, 8], [9, 10], [11, 12]], name = 'c')\n",
    "\n",
    "d = tf.add(a, b)\n",
    "# 对应元素相减\n",
    "f = tf.subtract(a, b)\n",
    "# 对应元素相乘\n",
    "e = tf.multiply(a, b)\n",
    "# 矩阵相乘\n",
    "g = tf.matmul(b, c)\n",
    "with tf.Session() as sess:\n",
    "    print(sess.run(d))\n",
    "    print(sess.run(e))\n",
    "    print(sess.run(f))\n",
    "    print(sess.run(g))\n",
    "    # 获取绝对值\n",
    "    print(sess.run(tf.abs(a)))\n",
    "    # 数据取相反数\n",
    "    print(sess.run(tf.negative(a)))\n",
    "    # 取出张量值\n",
    "    print(a.eval())"
   ]
  },
  {
   "cell_type": "code",
   "execution_count": 10,
   "metadata": {},
   "outputs": [
    {
     "name": "stdout",
     "output_type": "stream",
     "text": [
      "SparseTensorValue(indices=array([[0, 2],\n",
      "       [1, 3]]), values=array([1, 2], dtype=int32), dense_shape=array([3, 4]))\n"
     ]
    }
   ],
   "source": [
    "sp = tf.SparseTensor(indices = [[0, 2], [1, 3]], values = [1, 2], dense_shape = [3, 4])\n",
    "with tf.Session() as sess:\n",
    "    print(sp.eval())"
   ]
  },
  {
   "cell_type": "code",
   "execution_count": null,
   "metadata": {},
   "outputs": [],
   "source": []
  }
 ],
 "metadata": {
  "kernelspec": {
   "display_name": "Python 3",
   "language": "python",
   "name": "python3"
  },
  "language_info": {
   "codemirror_mode": {
    "name": "ipython",
    "version": 3
   },
   "file_extension": ".py",
   "mimetype": "text/x-python",
   "name": "python",
   "nbconvert_exporter": "python",
   "pygments_lexer": "ipython3",
   "version": "3.6.5"
  }
 },
 "nbformat": 4,
 "nbformat_minor": 2
}
