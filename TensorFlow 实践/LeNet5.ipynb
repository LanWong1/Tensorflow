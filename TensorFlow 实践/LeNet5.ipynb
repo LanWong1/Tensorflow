{
 "cells": [
  {
   "cell_type": "markdown",
   "metadata": {},
   "source": [
    "## （1）参数设置"
   ]
  },
  {
   "cell_type": "code",
   "execution_count": 1,
   "metadata": {},
   "outputs": [],
   "source": [
    "learning_rate = 0.01 \n",
    "epoches = 100\n"
   ]
  },
  {
   "cell_type": "markdown",
   "metadata": {},
   "source": [
    "## （2）导入数据"
   ]
  },
  {
   "cell_type": "code",
   "execution_count": 2,
   "metadata": {},
   "outputs": [
    {
     "name": "stderr",
     "output_type": "stream",
     "text": [
      "/Applications/anaconda3/lib/python3.6/site-packages/h5py/__init__.py:36: FutureWarning: Conversion of the second argument of issubdtype from `float` to `np.floating` is deprecated. In future, it will be treated as `np.float64 == np.dtype(float).type`.\n",
      "  from ._conv import register_converters as _register_converters\n"
     ]
    },
    {
     "name": "stdout",
     "output_type": "stream",
     "text": [
      "WARNING:tensorflow:From <ipython-input-2-0b36a8d9500f>:2: read_data_sets (from tensorflow.contrib.learn.python.learn.datasets.mnist) is deprecated and will be removed in a future version.\n",
      "Instructions for updating:\n",
      "Please use alternatives such as official/mnist/dataset.py from tensorflow/models.\n",
      "WARNING:tensorflow:From /Applications/anaconda3/lib/python3.6/site-packages/tensorflow/contrib/learn/python/learn/datasets/mnist.py:260: maybe_download (from tensorflow.contrib.learn.python.learn.datasets.base) is deprecated and will be removed in a future version.\n",
      "Instructions for updating:\n",
      "Please write your own downloading logic.\n",
      "WARNING:tensorflow:From /Applications/anaconda3/lib/python3.6/site-packages/tensorflow/contrib/learn/python/learn/datasets/mnist.py:262: extract_images (from tensorflow.contrib.learn.python.learn.datasets.mnist) is deprecated and will be removed in a future version.\n",
      "Instructions for updating:\n",
      "Please use tf.data to implement this functionality.\n",
      "Extracting train-images-idx3-ubyte.gz\n",
      "WARNING:tensorflow:From /Applications/anaconda3/lib/python3.6/site-packages/tensorflow/contrib/learn/python/learn/datasets/mnist.py:267: extract_labels (from tensorflow.contrib.learn.python.learn.datasets.mnist) is deprecated and will be removed in a future version.\n",
      "Instructions for updating:\n",
      "Please use tf.data to implement this functionality.\n",
      "Extracting train-labels-idx1-ubyte.gz\n",
      "WARNING:tensorflow:From /Applications/anaconda3/lib/python3.6/site-packages/tensorflow/contrib/learn/python/learn/datasets/mnist.py:110: dense_to_one_hot (from tensorflow.contrib.learn.python.learn.datasets.mnist) is deprecated and will be removed in a future version.\n",
      "Instructions for updating:\n",
      "Please use tf.one_hot on tensors.\n",
      "Extracting t10k-images-idx3-ubyte.gz\n",
      "Extracting t10k-labels-idx1-ubyte.gz\n",
      "WARNING:tensorflow:From /Applications/anaconda3/lib/python3.6/site-packages/tensorflow/contrib/learn/python/learn/datasets/mnist.py:290: DataSet.__init__ (from tensorflow.contrib.learn.python.learn.datasets.mnist) is deprecated and will be removed in a future version.\n",
      "Instructions for updating:\n",
      "Please use alternatives such as official/mnist/dataset.py from tensorflow/models.\n"
     ]
    }
   ],
   "source": [
    "import tensorflow.examples.tutorials.mnist.input_data as input_data\n",
    "mnist = input_data.read_data_sets('', one_hot=True)"
   ]
  },
  {
   "cell_type": "markdown",
   "metadata": {},
   "source": [
    "## (3) define functions\n"
   ]
  },
  {
   "cell_type": "code",
   "execution_count": 3,
   "metadata": {},
   "outputs": [],
   "source": [
    "# conv layer\n",
    "import tensorflow as tf\n",
    "\n",
    "def conv(input, filter_shape, bias_shape, strides_shape):\n",
    "    filter1 = tf.get_variable('filter', filter_shape, initializer=tf.truncated_normal_initializer())\n",
    "    bias = tf.get_variable('bias',bias_shape, initializer=tf.truncated_normal_initializer())\n",
    "    conv = tf.nn.conv2d(input,filter1,strides=strides_shape,padding='SAME')\n",
    "    output = tf.nn.sigmoid(conv+bias)\n",
    "    return output\n",
    "\n",
    "def pooling(input,ksize_shape,strides_shape):\n",
    "    output = tf.nn.max_pool(input,ksize=ksize_shape, strides=strides_shape,padding='SAME')\n",
    "    return output\n",
    "\n",
    "\n",
    "def full_connect(input, weight_shape, bias_shape, flat_shape):\n",
    "    weight = tf.get_variable('weight',weight_shape, initializer=tf.truncated_normal_initializer())\n",
    "    bias = tf.get_variable('bias',bias_shape,initializer=tf.truncated_normal_initializer())\n",
    "    flat = tf.reshape(input,flat_shape)\n",
    "    output = tf.nn.sigmoid(tf.matmul(flat,weight)+bias)\n",
    "    return output\n",
    "\n",
    "\n",
    "\n",
    "\n"
   ]
  },
  {
   "cell_type": "markdown",
   "metadata": {},
   "source": [
    "## (4)Build Model"
   ]
  },
  {
   "cell_type": "code",
   "execution_count": 4,
   "metadata": {},
   "outputs": [],
   "source": [
    "with tf.name_scope('Input'):\n",
    "    x_data = tf.placeholder(tf.float32, [None, 784])\n",
    "    y_data = tf.placeholder(tf.float32, [None, 10])\n",
    "    x_image = tf.reshape(x_data, [-1, 28, 28, 1])\n",
    "\n",
    "with tf.variable_scope('Conv1'):\n",
    "    conv1_output = conv(x_image, [5, 5, 1, 6], [6], [1, 1, 1, 1])\n",
    "\n",
    "with tf.variable_scope('Pooling1'):\n",
    "    pooling1_output = pooling(conv1_output, [1, 2, 2, 1], [1, 2, 2, 1])\n",
    "\n",
    "with tf.variable_scope('Conv2'):\n",
    "    conv2_output = conv(pooling1_output, [5, 5, 6, 16], [16], [1, 1, 1, 1])\n",
    "\n",
    "with tf.variable_scope('Pooling2'):\n",
    "    pooling2_output = pooling(conv2_output, [1, 2, 2, 1], [1, 2, 2, 1])\n",
    "\n",
    "with tf.variable_scope('Conv3'):\n",
    "    conv3_output = conv(pooling2_output, [5, 5, 16, 120], [120], [1, 1, 1, 1])\n",
    "\n",
    "with tf.variable_scope('Connection'):\n",
    "    connection_output = full_connect(conv3_output, [7*7*120, 80], [80], [-1, 7*7*120])\n",
    "\n",
    "with tf.name_scope('Output'):\n",
    "    weight = tf.Variable( tf.truncated_normal([80, 10]),dtype= tf.float32)\n",
    "    bias = tf.Variable(tf.truncated_normal([10]),dtype= tf.float32)\n",
    "    y_model = tf.nn.softmax(tf.add(tf.matmul(connection_output, weight), bias))"
   ]
  },
  {
   "cell_type": "markdown",
   "metadata": {},
   "source": [
    "## (5)define loss function "
   ]
  },
  {
   "cell_type": "code",
   "execution_count": 5,
   "metadata": {},
   "outputs": [
    {
     "name": "stdout",
     "output_type": "stream",
     "text": [
      "INFO:tensorflow:Summary name The variation of the loss is illegal; using The_variation_of_the_loss instead.\n",
      "WARNING:tensorflow:From <ipython-input-5-b2861806ecab>:6: arg_max (from tensorflow.python.ops.gen_math_ops) is deprecated and will be removed in a future version.\n",
      "Instructions for updating:\n",
      "Use `argmax` instead\n",
      "INFO:tensorflow:Summary name The variation of the accuracy is illegal; using The_variation_of_the_accuracy instead.\n"
     ]
    }
   ],
   "source": [
    "with tf.name_scope('Loss'):\n",
    "    loss = tf.reduce_mean(tf.nn.softmax_cross_entropy_with_logits_v2(labels=y_model,logits=y_data))\n",
    "    tf.summary.scalar('The variation of the loss',loss)\n",
    "    \n",
    "with tf.name_scope('Accuracy'):\n",
    "    prediction = tf.equal(tf.argmax(y_model,1),tf.arg_max(y_data,1))\n",
    "    accuracy = tf.reduce_mean(tf.cast(prediction,tf.float32))\n",
    "    tf.summary.scalar('The variation of the accuracy',accuracy)"
   ]
  },
  {
   "cell_type": "code",
   "execution_count": 6,
   "metadata": {},
   "outputs": [],
   "source": [
    "with tf.name_scope('Train'):\n",
    "    train_op = tf.train.AdamOptimizer(learning_rate).minimize(loss)"
   ]
  },
  {
   "cell_type": "code",
   "execution_count": 19,
   "metadata": {},
   "outputs": [
    {
     "name": "stdout",
     "output_type": "stream",
     "text": [
      "0.098\n",
      "0.098\n",
      "0.098\n",
      "0.098\n",
      "0.098\n",
      "0.0983\n",
      "0.0982\n",
      "0.0982\n",
      "0.0982\n",
      "0.0982\n",
      "0.0982\n",
      "0.0982\n",
      "0.0982\n",
      "0.0982\n",
      "0.098\n",
      "0.098\n",
      "0.098\n",
      "0.098\n",
      "0.098\n",
      "0.098\n",
      "0.098\n",
      "0.1009\n",
      "0.1009\n",
      "0.101\n",
      "0.101\n",
      "0.101\n",
      "0.101\n",
      "0.101\n",
      "0.101\n",
      "0.101\n",
      "0.101\n",
      "0.101\n",
      "0.101\n",
      "0.101\n",
      "0.101\n",
      "0.101\n",
      "0.101\n",
      "0.101\n",
      "0.101\n",
      "0.101\n",
      "0.101\n",
      "0.101\n",
      "0.101\n",
      "0.101\n",
      "0.101\n",
      "0.101\n",
      "0.101\n",
      "0.101\n",
      "0.101\n",
      "0.101\n",
      "0.101\n",
      "0.101\n",
      "0.101\n",
      "0.101\n",
      "0.101\n",
      "0.101\n",
      "0.101\n",
      "0.101\n",
      "0.101\n",
      "0.101\n",
      "0.101\n",
      "0.101\n",
      "0.101\n",
      "0.101\n",
      "0.101\n",
      "0.101\n",
      "0.101\n",
      "0.101\n",
      "0.101\n",
      "0.101\n",
      "0.101\n",
      "0.101\n",
      "0.101\n",
      "0.101\n",
      "0.101\n",
      "0.101\n",
      "0.101\n",
      "0.101\n",
      "0.101\n",
      "0.101\n",
      "0.101\n",
      "0.101\n",
      "0.101\n",
      "0.101\n",
      "0.101\n",
      "0.101\n",
      "0.101\n",
      "0.101\n",
      "0.101\n",
      "0.101\n",
      "0.101\n",
      "0.101\n",
      "0.101\n",
      "0.101\n",
      "0.101\n",
      "0.101\n",
      "0.101\n",
      "0.101\n",
      "0.101\n",
      "0.101\n"
     ]
    }
   ],
   "source": [
    "with tf.Session() as sess:\n",
    "    sess.run(tf.global_variables_initializer())\n",
    "    x_batch, y_batch = mnist.train.next_batch(50)\n",
    "    writer = tf.summary.FileWriter(\"logs/\", sess.graph)\n",
    "    merged = tf.summary.merge_all()\n",
    "    batch_x, batch_y = mnist.train.next_batch(200)\n",
    "    a = []\n",
    "    b = []\n",
    "    for i in range(100):\n",
    "        b.append(i+1)\n",
    "        sess.run(train_op, feed_dict={x_data: batch_x, y_data: batch_y})\n",
    "        print(sess.run(accuracy, feed_dict={x_data: mnist.test.images, y_data: mnist.test.labels}))\n",
    "        summary, acc = sess.run([merged, accuracy],\n",
    "                            feed_dict={x_data: mnist.test.images, y_data: mnist.test.labels})\n",
    "        a.append(acc)\n",
    "        writer.add_summary(summary, _)\n",
    "    writer.close()\n"
   ]
  },
  {
   "cell_type": "code",
   "execution_count": 20,
   "metadata": {},
   "outputs": [
    {
     "name": "stdout",
     "output_type": "stream",
     "text": [
      "[1, 2, 3, 4, 5, 6, 7, 8, 9, 10, 11, 12, 13, 14, 15, 16, 17, 18, 19, 20, 21, 22, 23, 24, 25, 26, 27, 28, 29, 30, 31, 32, 33, 34, 35, 36, 37, 38, 39, 40, 41, 42, 43, 44, 45, 46, 47, 48, 49, 50, 51, 52, 53, 54, 55, 56, 57, 58, 59, 60, 61, 62, 63, 64, 65, 66, 67, 68, 69, 70, 71, 72, 73, 74, 75, 76, 77, 78, 79, 80, 81, 82, 83, 84, 85, 86, 87, 88, 89, 90, 91, 92, 93, 94, 95, 96, 97, 98, 99, 100]\n"
     ]
    },
    {
     "data": {
      "image/png": "[encoded data removed]",
      "text/plain": [
       "<Figure size 432x288 with 1 Axes>"
      ]
     },
     "metadata": {},
     "output_type": "display_data"
    }
   ],
   "source": [
    "import matplotlib.pyplot as plt\n",
    "%matplotlib inline\n",
    "print(b)\n",
    "plt.plot(b,a)\n",
    "plt.title('The variation of the acuracy')\n",
    "plt.xlabel('The sampling point')\n",
    "plt.ylabel('Accuracy')\n",
    "#plt.tight_layout()\n",
    "plt.show()    "
   ]
  },
  {
   "cell_type": "code",
   "execution_count": null,
   "metadata": {},
   "outputs": [],
   "source": []
  }
 ],
 "metadata": {
  "kernelspec": {
   "display_name": "Python 3",
   "language": "python",
   "name": "python3"
  },
  "language_info": {
   "codemirror_mode": {
    "name": "ipython",
    "version": 3
   },
   "file_extension": ".py",
   "mimetype": "text/x-python",
   "name": "python",
   "nbconvert_exporter": "python",
   "pygments_lexer": "ipython3",
   "version": "3.6.5"
  }
 },
 "nbformat": 4,
 "nbformat_minor": 2
}
